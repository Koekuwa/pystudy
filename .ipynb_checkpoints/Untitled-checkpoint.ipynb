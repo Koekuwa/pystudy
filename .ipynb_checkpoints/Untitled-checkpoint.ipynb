{
 "cells": [
  {
   "cell_type": "code",
   "execution_count": 1,
   "metadata": {
    "collapsed": true
   },
   "outputs": [],
   "source": [
    "#高度なスクレイピング"
   ]
  },
  {
   "cell_type": "code",
   "execution_count": 2,
   "metadata": {
    "collapsed": true
   },
   "outputs": [],
   "source": [
    "import requests\n",
    "from bs4 import BeautifulSoup\n",
    "from urllib.parse import urljoin"
   ]
  },
  {
   "cell_type": "code",
   "execution_count": 3,
   "metadata": {
    "collapsed": false
   },
   "outputs": [
    {
     "name": "stdout",
     "output_type": "stream",
     "text": [
      "マイページ= http://uta.pw/sakusibbs/users.php?user_id=32\n",
      "- 今日も明日もJS三昧 by JS-TESTER > post.php?mml_id=161\n",
      "- 眠ってもデバッグ by JS-TESTER > post.php?mml_id=162\n",
      "- プリンとシュークリーム by JS-TESTER > post.php?mml_id=246\n",
      "- 吾輩はテスターである by JS-TESTER > post.php?mml_id=268\n",
      "- 吾輩はテスターである　その２ by JS-TESTER > post.php?mml_id=269\n",
      "- test by JS-TESTER > post.php?mml_id=281\n",
      "- 星めぐりの歌 by 宮澤賢治 > post.php?mml_id=102\n",
      "- 取り外す by クジラ飛行机 > post.php?mml_id=272\n",
      "- 時は流れて　身もだえて by しゅん > post.php?mml_id=271\n",
      "- 相模原の兄妹 by 柚媛梁 > post.php?mml_id=275\n",
      "- しあわせのたね by pico > post.php?mml_id=126\n",
      "- なげけとて 月やは物を 思はする かこち顔なる わが涙かな by 百人一首 > post.php?mml_id=86\n",
      "- 危険な試験 by クジラ飛行机 > post.php?mml_id=270\n",
      "- memo by Homary > post.php?mml_id=267\n",
      "- ほしたちの夜 by しゅん > post.php?mml_id=261\n",
      "- 数え歌 by クジラ飛行机 > post.php?mml_id=245\n",
      "- 格好 by Homary > post.php?mml_id=167\n",
      "- メダリオン by Homary > post.php?mml_id=164\n",
      "- Seraphim by Homary > post.php?mml_id=180\n",
      "- 樹（さくら） by Homary > post.php?mml_id=172\n",
      "- 命想い by Homary > post.php?mml_id=184\n",
      "- ぼんやり by Homary > post.php?mml_id=181\n",
      "- 哀愁メトロ by Homary > post.php?mml_id=207\n",
      "- 夕日 by Homary > post.php?mml_id=202\n",
      "- Razury by Homary > post.php?mml_id=239\n",
      "- つまびく by Homary > post.php?mml_id=209\n",
      "- 鍵 by Homary > post.php?mml_id=247\n",
      "- メモリーズ by Homary > post.php?mml_id=256\n",
      "- 無能ぶるうす by マルシー > post.php?mml_id=249\n",
      "- 墓場の歌 by マルシー > post.php?mml_id=255\n",
      "- 物語「深海の賢者」 by マルシー > post.php?mml_id=254\n",
      "- ゆめのなか by マルシー > post.php?mml_id=259\n",
      "- 春過ぎて 夏来にけらし 白妙の 衣ほすてふ 天の香具山 by 百人一首 > post.php?mml_id=2\n",
      "- 秋の田の かりほの庵の 苫をあらみ 我が衣手は 露にぬれつつ by 百人一首 > post.php?mml_id=1\n",
      "- 田子の浦に うちいでてみれば 白妙の 富士の高嶺に 雪は降りつつ by 百人一首 > post.php?mml_id=4\n",
      "- あしびきの 山鳥の尾の しだり尾の ながながし夜を ひとりかも寝む by 百人一首 > post.php?mml_id=3\n",
      "- 奥山に もみぢふみわけ なく鹿の 声聞く時ぞ 秋はかなしき by 百人一首 > post.php?mml_id=5\n",
      "- 天の原 ふりさけみれば 春日なる 三笠の山に いでし月かも by 百人一首 > post.php?mml_id=7\n",
      "- かささぎの 渡せる橋に おく霜の 白きをみれば 夜ぞふけにける by 百人一首 > post.php?mml_id=6\n",
      "- 花の色は うつりにけりな いたづらに わが身よにふる ながめせしまに by 百人一首 > post.php?mml_id=9\n",
      "- わが庵は 都のたつみ しかぞすむ 世をうぢ山と 人はいふなり by 百人一首 > post.php?mml_id=8\n",
      "- わたの原 八十島かけて こぎいでぬと 人にはつげよ あまのつり舟 by 百人一首 > post.php?mml_id=11\n",
      "- これやこの 行くも帰るも わかれては しるもしらぬも 逢坂の関 by 百人一首 > post.php?mml_id=10\n",
      "- つくばねの 峰よりおつる みなの川 恋ぞつもりて 淵となりぬる by 百人一首 > post.php?mml_id=13\n",
      "- 天つ風 雲のかよひ路 吹きとぢよ をとめの姿 しばしとどめむ by 百人一首 > post.php?mml_id=12\n",
      "- 君がため 春の野に出でて 若菜つむ わが衣手に 雪はふりつつ by 百人一首 > post.php?mml_id=15\n",
      "- みちのくの しのぶもぢずり 誰ゆゑに みだれそめにし 我ならなくに by 百人一首 > post.php?mml_id=14\n",
      "- 立ちわかれ いなばの山の 峰に生ふる まつとし聞かば いまかへりこむ by 百人一首 > post.php?mml_id=16\n",
      "- 住の江の 岸による波 よるさへや 夢のかよひ路 人目よくらむ by 百人一首 > post.php?mml_id=18\n",
      "- ちはやぶる 神代もきかず 竜田川 からくれなゐに 水くくるとは by 百人一首 > post.php?mml_id=17\n"
     ]
    }
   ],
   "source": [
    "USER = \"JS-TESTER\"\n",
    "PASS = \"ipCU12ySxI\"\n",
    "\n",
    "session = requests.session()\n",
    "\n",
    "login_info = {\"username_mmlbbs6\": USER, \"password_mmlbbs6\": PASS, \"back\": \"index.php\", \"mml_id\": \"0\"}\n",
    "url_login = \"http://uta.pw/sakusibbs/users.php?action=login&m=try\"\n",
    "res = session.post(url_login, data=login_info)\n",
    "res.raise_for_status()\n",
    "\n",
    "soup = BeautifulSoup(res.text, \"html.parser\")\n",
    "a = soup.select_one(\".islogin a\")\n",
    "if a is None:\n",
    "    print(\"取得失敗\")\n",
    "    quit()\n",
    "url_mypage = urljoin(url_login, a.attrs[\"href\"])\n",
    "print(\"マイページ=\", url_mypage)\n",
    "\n",
    "res = session.get(url_mypage)\n",
    "res.raise_for_status()\n",
    "\n",
    "soup = BeautifulSoup(res.text, \"html.parser\")\n",
    "links = soup.select(\"#favlist li > a\")\n",
    "for a in links:\n",
    "    href = a.attrs[\"href\"]\n",
    "    title = a.get_text()\n",
    "    print(\"-\", title, \">\", href)"
   ]
  },
  {
   "cell_type": "code",
   "execution_count": 4,
   "metadata": {
    "collapsed": true
   },
   "outputs": [],
   "source": [
    "import requests"
   ]
  },
  {
   "cell_type": "code",
   "execution_count": 5,
   "metadata": {
    "collapsed": false
   },
   "outputs": [
    {
     "name": "stdout",
     "output_type": "stream",
     "text": [
      "2017/01/04 09:19:18\n",
      "b'2017/01/04 09:19:18'\n"
     ]
    }
   ],
   "source": [
    "r = requests.get(\"http://api.aoikujira.com/time/get.php\")\n",
    "\n",
    "text = r.text\n",
    "print(text)\n",
    "\n",
    "bin = r.content\n",
    "print(bin)"
   ]
  },
  {
   "cell_type": "code",
   "execution_count": 6,
   "metadata": {
    "collapsed": true
   },
   "outputs": [],
   "source": [
    "import requests"
   ]
  },
  {
   "cell_type": "code",
   "execution_count": 7,
   "metadata": {
    "collapsed": false
   },
   "outputs": [
    {
     "name": "stdout",
     "output_type": "stream",
     "text": [
      "saved\n"
     ]
    }
   ],
   "source": [
    "r = requests.get(\"http://uta.pw/shodou/img/3/3.png\")\n",
    "\n",
    "with open(\"test.png\", \"wb\") as f:\n",
    "    f.write(r.content)\n",
    "\n",
    "print(\"saved\")"
   ]
  },
  {
   "cell_type": "code",
   "execution_count": 8,
   "metadata": {
    "collapsed": true
   },
   "outputs": [],
   "source": [
    "#ブラウザからのスクレイピングphantomjs"
   ]
  },
  {
   "cell_type": "code",
   "execution_count": 10,
   "metadata": {
    "collapsed": false
   },
   "outputs": [],
   "source": [
    "from selenium import webdriver"
   ]
  },
  {
   "cell_type": "code",
   "execution_count": 11,
   "metadata": {
    "collapsed": true
   },
   "outputs": [],
   "source": [
    "url = \"http://www.aozora.gr.jp/cards/000081/files/46268_23911.html\"\n",
    "\n",
    "browser = webdriver.PhantomJS()\n",
    "browser.implicitly_wait(3)\n",
    "browser.get(url)\n",
    "browser.save_screenshot(\"Website.png\")\n",
    "browser.quit()"
   ]
  },
  {
   "cell_type": "code",
   "execution_count": null,
   "metadata": {
    "collapsed": true
   },
   "outputs": [],
   "source": []
  }
 ],
 "metadata": {
  "anaconda-cloud": {},
  "kernelspec": {
   "display_name": "Python [Root]",
   "language": "python",
   "name": "Python [Root]"
  },
  "language_info": {
   "codemirror_mode": {
    "name": "ipython",
    "version": 3
   },
   "file_extension": ".py",
   "mimetype": "text/x-python",
   "name": "python",
   "nbconvert_exporter": "python",
   "pygments_lexer": "ipython3",
   "version": "3.5.2"
  }
 },
 "nbformat": 4,
 "nbformat_minor": 0
}
