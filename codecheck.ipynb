{
 "cells": [
  {
   "cell_type": "code",
   "execution_count": 13,
   "metadata": {
    "collapsed": false
   },
   "outputs": [],
   "source": [
    "import numpy as np\n",
    "import urllib.request as req\n",
    "import urllib.parse\n",
    "from urllib.parse import urlparse"
   ]
  },
  {
   "cell_type": "code",
   "execution_count": 5,
   "metadata": {
    "collapsed": true
   },
   "outputs": [],
   "source": [
    "def asahi_api(word):\n",
    "    url = \"http://54.92.123.84/search?q=:words&ackey=869388c0968ae503614699f99e09d960f9ad3e12\".decode('utf-8')\n",
    "    response = req.urlopen(url)\n",
    "    return response.read()"
   ]
  },
  {
   "cell_type": "code",
   "execution_count": 23,
   "metadata": {
    "collapsed": false
   },
   "outputs": [
    {
     "name": "stdout",
     "output_type": "stream",
     "text": [
      "野球\n"
     ]
    }
   ],
   "source": [
    "words = input().split(\",\")\n",
    "for word in words:\n",
    "    ekyword_data = asahi_api(word)"
   ]
  },
  {
   "cell_type": "code",
   "execution_count": 14,
   "metadata": {
    "collapsed": false
   },
   "outputs": [
    {
     "name": "stdout",
     "output_type": "stream",
     "text": [
      "<?xml version=\"1.0\" encoding=\"UTF-8\"?>\n",
      "<response>\n",
      "  <status>OK</status>\n",
      "  <code>0</code>\n",
      "  <result numFound=\"122\" start=\"0\">\n",
      "    <doc>\n",
      "       <Id>A1001120160718M034-14T010</Id>\n",
      "       <PageName>２社会</PageName>\n",
      "       <Title>関東地方で震度４</Title>\n",
      "       <Body>　１７日午後１時２４分ごろ、関東地方の広い地域で震度４を観測する地震があった。気象庁によると、茨城県、栃木県、埼玉県、千葉県、神奈川県などで震度４を観測。他に東京２３区など広い範囲でも震度３を観測した。\n",
      "　同庁によると、震源は茨城県南部で、震源の深さは約４０キロ、地震の規模を示すマグニチュードは５・０と推定される。\n",
      "\n",
      "\n",
      "</Body>\n",
      "       <Category>社会</Category>\n",
      "       <SubCategory></SubCategory>\n",
      "       <Keyword>災害</Keyword>\n",
      "       <PublicationKind>M</PublicationKind>\n",
      "       <ReleaseDate>2016-07-18</ReleaseDate>\n",
      "       <WordCount>157</WordCount>\n",
      "       <Page>34</Page>\n",
      "    </doc>\n",
      "  </result>\n",
      "</response>\n"
     ]
    }
   ],
   "source": [
    "url = \"http://54.92.123.84/search?q=Title:地方 AND Body:神奈川&rows=1&ackey=869388c0968ae503614699f99e09d960f9ad3e12\"\n",
    "#url = url.encode(\"utf-8\")\n",
    "p = urlparse(url)\n",
    "query = urllib.parse.quote_plus(p.query, safe='=&')\n",
    "url = '{}://{}{}{}{}{}{}{}{}'.format(\n",
    "    p.scheme, p.netloc, p.path,\n",
    "    ';' if p.params else '', p.params,\n",
    "    '?' if p.query else '', query,\n",
    "    '#' if p.fragment else '', p.fragment)\n",
    "response = req.urlopen(url).read()\n",
    "text = response.decode(\"utf-8\")\n",
    "print(text)"
   ]
  },
  {
   "cell_type": "code",
   "execution_count": null,
   "metadata": {
    "collapsed": true
   },
   "outputs": [],
   "source": []
  }
 ],
 "metadata": {
  "anaconda-cloud": {},
  "kernelspec": {
   "display_name": "Python [Root]",
   "language": "python",
   "name": "Python [Root]"
  },
  "language_info": {
   "codemirror_mode": {
    "name": "ipython",
    "version": 3
   },
   "file_extension": ".py",
   "mimetype": "text/x-python",
   "name": "python",
   "nbconvert_exporter": "python",
   "pygments_lexer": "ipython3",
   "version": "3.5.2"
  }
 },
 "nbformat": 4,
 "nbformat_minor": 1
}
