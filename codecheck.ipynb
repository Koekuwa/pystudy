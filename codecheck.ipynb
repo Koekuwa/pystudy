{
 "cells": [
  {
   "cell_type": "code",
   "execution_count": 7,
   "metadata": {
    "collapsed": false
   },
   "outputs": [],
   "source": [
    "import numpy as np\n",
    "import urllib.request as req\n",
    "import urllib.parse\n",
    "from urllib.parse import urlparse\n",
    "from bs4 import BeautifulSoup"
   ]
  },
  {
   "cell_type": "code",
   "execution_count": 8,
   "metadata": {
    "collapsed": true
   },
   "outputs": [],
   "source": [
    "def asahi_api(word):\n",
    "    url = \"http://54.92.123.84/search?q=:word&ackey=869388c0968ae503614699f99e09d960f9ad3e12\"\n",
    "    p = urlparse(url)\n",
    "    query = urllib.parse.quote_plus(p.query, safe='=&')\n",
    "    url = '{}://{}{}{}{}{}{}{}{}'.format(\n",
    "        p.scheme, p.netloc, p.path,\n",
    "        ';' if p.params else '', p.params,\n",
    "        '?' if p.query else '', query,\n",
    "        '#' if p.fragment else '', p.fragment)\n",
    "    res = req.urlopen(url)\n",
    "    return res"
   ]
  },
  {
   "cell_type": "code",
   "execution_count": 9,
   "metadata": {
    "collapsed": false
   },
   "outputs": [
    {
     "name": "stdout",
     "output_type": "stream",
     "text": [
      "野球\n"
     ]
    },
    {
     "ename": "AttributeError",
     "evalue": "'NoneType' object has no attribute 'attrs'",
     "output_type": "error",
     "traceback": [
      "\u001b[0;31m-------------------------------------------\u001b[0m",
      "\u001b[0;31mAttributeError\u001b[0mTraceback (most recent call last)",
      "\u001b[0;32m<ipython-input-9-31f829ab8e9e>\u001b[0m in \u001b[0;36m<module>\u001b[0;34m()\u001b[0m\n\u001b[1;32m      6\u001b[0m     \u001b[0mnum_soup\u001b[0m \u001b[0;34m=\u001b[0m \u001b[0mkeyword_soup\u001b[0m\u001b[0;34m.\u001b[0m\u001b[0mresponse\u001b[0m\u001b[0;34m.\u001b[0m\u001b[0mresult\u001b[0m\u001b[0;34m\u001b[0m\u001b[0m\n\u001b[1;32m      7\u001b[0m     \u001b[0mresult\u001b[0m\u001b[0;34m[\u001b[0m\u001b[0;34m\"name\"\u001b[0m\u001b[0;34m]\u001b[0m \u001b[0;34m=\u001b[0m \u001b[0mword\u001b[0m\u001b[0;34m\u001b[0m\u001b[0m\n\u001b[0;32m----> 8\u001b[0;31m     \u001b[0mresult\u001b[0m\u001b[0;34m[\u001b[0m\u001b[0;34m\"count\"\u001b[0m\u001b[0;34m]\u001b[0m \u001b[0;34m=\u001b[0m \u001b[0mnum_soup\u001b[0m\u001b[0;34m.\u001b[0m\u001b[0mattrs\u001b[0m\u001b[0;34m[\u001b[0m\u001b[0;34m\"numFound\"\u001b[0m\u001b[0;34m]\u001b[0m\u001b[0;34m\u001b[0m\u001b[0m\n\u001b[0m\u001b[1;32m      9\u001b[0m     \u001b[0mprint\u001b[0m\u001b[0;34m(\u001b[0m\u001b[0mresult\u001b[0m\u001b[0;34m)\u001b[0m\u001b[0;34m\u001b[0m\u001b[0m\n",
      "\u001b[0;31mAttributeError\u001b[0m: 'NoneType' object has no attribute 'attrs'"
     ]
    }
   ],
   "source": [
    "words = input().split(\",\")\n",
    "for word in words:\n",
    "    result = {}\n",
    "    keyword_data = asahi_api(word)\n",
    "    keyword_soup = BeautifulSoup(keyword_data, \"html.parser\")\n",
    "    num_soup = keyword_soup.response.result\n",
    "    result[\"name\"] = word\n",
    "    result[\"count\"] = num_soup.attrs[\"numFound\"]\n",
    "    print(result)"
   ]
  },
  {
   "cell_type": "code",
   "execution_count": 10,
   "metadata": {
    "collapsed": false
   },
   "outputs": [
    {
     "name": "stdout",
     "output_type": "stream",
     "text": [
      "<?xml version=\"1.0\" encoding=\"UTF-8\"?>\n",
      "<response>\n",
      "  <status>OK</status>\n",
      "  <code>0</code>\n",
      "  <result numFound=\"122\" start=\"0\">\n",
      "    <doc>\n",
      "       <Id>A1001120160718M034-14T010</Id>\n",
      "       <PageName>２社会</PageName>\n",
      "       <Title>関東地方で震度４</Title>\n",
      "       <Body>　１７日午後１時２４分ごろ、関東地方の広い地域で震度４を観測する地震があった。気象庁によると、茨城県、栃木県、埼玉県、千葉県、神奈川県などで震度４を観測。他に東京２３区など広い範囲でも震度３を観測した。\n",
      "　同庁によると、震源は茨城県南部で、震源の深さは約４０キロ、地震の規模を示すマグニチュードは５・０と推定される。\n",
      "\n",
      "\n",
      "</Body>\n",
      "       <Category>社会</Category>\n",
      "       <SubCategory></SubCategory>\n",
      "       <Keyword>災害</Keyword>\n",
      "       <PublicationKind>M</PublicationKind>\n",
      "       <ReleaseDate>2016-07-18</ReleaseDate>\n",
      "       <WordCount>157</WordCount>\n",
      "       <Page>34</Page>\n",
      "    </doc>\n",
      "  </result>\n",
      "</response>\n"
     ]
    }
   ],
   "source": [
    "url = \"http://54.92.123.84/search?q=Title:地方 AND Body:神奈川&rows=1&ackey=869388c0968ae503614699f99e09d960f9ad3e12\"\n",
    "#url = url.encode(\"utf-8\")\n",
    "p = urlparse(url)\n",
    "query = urllib.parse.quote_plus(p.query, safe='=&')\n",
    "url = '{}://{}{}{}{}{}{}{}{}'.format(\n",
    "    p.scheme, p.netloc, p.path,\n",
    "    ';' if p.params else '', p.params,\n",
    "    '?' if p.query else '', query,\n",
    "    '#' if p.fragment else '', p.fragment)\n",
    "res = req.urlopen(url).read()\n",
    "text = res.decode(\"utf-8\")\n",
    "print(text)"
   ]
  },
  {
   "cell_type": "code",
   "execution_count": 20,
   "metadata": {
    "collapsed": false
   },
   "outputs": [
    {
     "ename": "AttributeError",
     "evalue": "'NoneType' object has no attribute 'string'",
     "output_type": "error",
     "traceback": [
      "\u001b[0;31m-------------------------------------------\u001b[0m",
      "\u001b[0;31mAttributeError\u001b[0mTraceback (most recent call last)",
      "\u001b[0;32m<ipython-input-20-b31582555603>\u001b[0m in \u001b[0;36m<module>\u001b[0;34m()\u001b[0m\n\u001b[1;32m     26\u001b[0m \"\"\"\n\u001b[1;32m     27\u001b[0m \u001b[0msoup\u001b[0m \u001b[0;34m=\u001b[0m \u001b[0mBeautifulSoup\u001b[0m\u001b[0;34m(\u001b[0m\u001b[0mhtml\u001b[0m\u001b[0;34m,\u001b[0m \u001b[0;34m\"html.parser\"\u001b[0m\u001b[0;34m)\u001b[0m\u001b[0;34m\u001b[0m\u001b[0m\n\u001b[0;32m---> 28\u001b[0;31m \u001b[0mh1\u001b[0m \u001b[0;34m=\u001b[0m \u001b[0msoup\u001b[0m\u001b[0;34m.\u001b[0m\u001b[0mfind\u001b[0m\u001b[0;34m(\u001b[0m\u001b[0;34m\"ID\"\u001b[0m\u001b[0;34m)\u001b[0m\u001b[0;34m.\u001b[0m\u001b[0mstring\u001b[0m\u001b[0;34m\u001b[0m\u001b[0m\n\u001b[0m\u001b[1;32m     29\u001b[0m \u001b[0mprint\u001b[0m\u001b[0;34m(\u001b[0m\u001b[0mh1\u001b[0m\u001b[0;34m)\u001b[0m\u001b[0;34m\u001b[0m\u001b[0m\n",
      "\u001b[0;31mAttributeError\u001b[0m: 'NoneType' object has no attribute 'string'"
     ]
    }
   ],
   "source": [
    "html = \"\"\"\n",
    "<?xml version=\"1.0\" encoding=\"UTF-8\"?>\n",
    "<response>\n",
    "  <status>OK</status>\n",
    "  <code>0</code>\n",
    "  <result numFound=\"122\" start=\"0\">\n",
    "    <doc>\n",
    "       <Id>A1001120160718M034-14T010</Id>\n",
    "       <PageName>２社会</PageName>\n",
    "       <Title>関東地方で震度４</Title>\n",
    "       <Body>　１７日午後１時２４分ごろ、関東地方の広い地域で震度４を観測する地震があった。気象庁によると、茨城県、栃木県、埼玉県、千葉県、神奈川県などで震度４を観測。他に東京２３区など広い範囲でも震度３を観測した。\n",
    "　同庁によると、震源は茨城県南部で、震源の深さは約４０キロ、地震の規模を示すマグニチュードは５・０と推定される。\n",
    "\n",
    "\n",
    "</Body>\n",
    "       <Category>社会</Category>\n",
    "       <SubCategory></SubCategory>\n",
    "       <Keyword>災害</Keyword>\n",
    "       <PublicationKind>M</PublicationKind>\n",
    "       <ReleaseDate>2016-07-18</ReleaseDate>\n",
    "       <WordCount>157</WordCount>\n",
    "       <Page>34</Page>\n",
    "    </doc>\n",
    "  </result>\n",
    "</response>\n",
    "\"\"\"\n",
    "soup = BeautifulSoup(html, \"html.parser\")\n",
    "h1 = soup.find(\"ID\").string\n",
    "print(h1)"
   ]
  },
  {
   "cell_type": "code",
   "execution_count": null,
   "metadata": {
    "collapsed": true
   },
   "outputs": [],
   "source": []
  }
 ],
 "metadata": {
  "anaconda-cloud": {},
  "kernelspec": {
   "display_name": "Python [Root]",
   "language": "python",
   "name": "Python [Root]"
  },
  "language_info": {
   "codemirror_mode": {
    "name": "ipython",
    "version": 3
   },
   "file_extension": ".py",
   "mimetype": "text/x-python",
   "name": "python",
   "nbconvert_exporter": "python",
   "pygments_lexer": "ipython3",
   "version": "3.5.2"
  }
 },
 "nbformat": 4,
 "nbformat_minor": 1
}
