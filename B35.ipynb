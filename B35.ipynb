{
 "cells": [
  {
   "cell_type": "code",
   "execution_count": null,
   "metadata": {
    "collapsed": true
   },
   "outputs": [],
   "source": [
    "n = list(map(int,input().split()))\n",
    "last = {}\n",
    "for i in range(n[0]):\n",
    "    data = list(input().split())\n",
    "    last[data[0]] = int(data[1])\n",
    "last_lank = []\n",
    "for k, v in sorted(last.items(), key=lambda x:x[1],reverse=True):\n",
    "    last_lank.append(k)\n",
    "last_lank = last_lank[0:4]\n",
    "now = {}\n",
    "for i in range(n[1]):\n",
    "    ndata = list(input().split())\n",
    "    if ndata[1] in now:\n",
    "        now[ndata[1]] += int(ndata[2])\n",
    "    else:\n",
    "        now[ndata[1]] = int(ndata[2])\n",
    "now_lank = []\n",
    "from collections import OrderedDict\n",
    "now = OrderedDict(sorted(now.items(), key=lambda x:x[1],reverse=True))\n",
    "now_lank = list(now.keys())\n",
    "now_dist = list(now.values())\n",
    "now_lank = now_lank[0:4]\n",
    "a = []\n",
    "for i in range(4):\n",
    "    if now_lank[i] in last_lank:\n",
    "        ll = last_lank.index(now_lank[i])\n",
    "        if ll == i:\n",
    "            a.append(\"same\")\n",
    "        elif ll > i:\n",
    "            a.append(\"up\")\n",
    "        else:\n",
    "            a.append(\"down\")\n",
    "    else:\n",
    "        a.append(\"new\")\n",
    "for i in range(4):\n",
    "    print(str(now_lank[i]) + \" \" + str(now_dist[i]) + \" \" + str(a[i]))"
   ]
  }
 ],
 "metadata": {
  "kernelspec": {
   "display_name": "Python 3",
   "language": "python",
   "name": "python3"
  },
  "language_info": {
   "codemirror_mode": {
    "name": "ipython",
    "version": 3
   },
   "file_extension": ".py",
   "mimetype": "text/x-python",
   "name": "python",
   "nbconvert_exporter": "python",
   "pygments_lexer": "ipython3",
   "version": "3.5.2"
  }
 },
 "nbformat": 4,
 "nbformat_minor": 1
}
